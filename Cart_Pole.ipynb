{
  "nbformat": 4,
  "nbformat_minor": 0,
  "metadata": {
    "colab": {
      "name": "Cart Pole.ipynb",
      "provenance": [],
      "collapsed_sections": [],
      "authorship_tag": "ABX9TyNh5eAOhR9kwOkwIHm5jO58",
      "include_colab_link": true
    },
    "kernelspec": {
      "name": "python3",
      "display_name": "Python 3"
    },
    "language_info": {
      "name": "python"
    }
  },
  "cells": [
    {
      "cell_type": "markdown",
      "metadata": {
        "id": "view-in-github",
        "colab_type": "text"
      },
      "source": [
        "<a href=\"https://colab.research.google.com/github/lucasdblucas/carl_pole_project/blob/master/Cart_Pole.ipynb\" target=\"_parent\"><img src=\"https://colab.research.google.com/assets/colab-badge.svg\" alt=\"Open In Colab\"/></a>"
      ]
    },
    {
      "cell_type": "code",
      "execution_count": null,
      "metadata": {
        "colab": {
          "base_uri": "https://localhost:8080/",
          "height": 1000
        },
        "id": "9te2-JmEpxO_",
        "outputId": "b27728b8-8bd6-44dd-c5b3-91dec02d38e2"
      },
      "outputs": [
        {
          "output_type": "stream",
          "name": "stdout",
          "text": [
            "Looking in indexes: https://pypi.org/simple, https://us-python.pkg.dev/colab-wheels/public/simple/\n",
            "Collecting tensorflow==2.3.0\n",
            "  Downloading tensorflow-2.3.0-cp37-cp37m-manylinux2010_x86_64.whl (320.4 MB)\n",
            "\u001b[K     |████████████████████████████████| 320.4 MB 44 kB/s \n",
            "\u001b[?25hRequirement already satisfied: absl-py>=0.7.0 in /usr/local/lib/python3.7/dist-packages (from tensorflow==2.3.0) (1.2.0)\n",
            "Collecting gast==0.3.3\n",
            "  Downloading gast-0.3.3-py2.py3-none-any.whl (9.7 kB)\n",
            "Requirement already satisfied: tensorboard<3,>=2.3.0 in /usr/local/lib/python3.7/dist-packages (from tensorflow==2.3.0) (2.8.0)\n",
            "Requirement already satisfied: wheel>=0.26 in /usr/local/lib/python3.7/dist-packages (from tensorflow==2.3.0) (0.37.1)\n",
            "Collecting h5py<2.11.0,>=2.10.0\n",
            "  Downloading h5py-2.10.0-cp37-cp37m-manylinux1_x86_64.whl (2.9 MB)\n",
            "\u001b[K     |████████████████████████████████| 2.9 MB 41.6 MB/s \n",
            "\u001b[?25hCollecting scipy==1.4.1\n",
            "  Downloading scipy-1.4.1-cp37-cp37m-manylinux1_x86_64.whl (26.1 MB)\n",
            "\u001b[K     |████████████████████████████████| 26.1 MB 1.5 MB/s \n",
            "\u001b[?25hRequirement already satisfied: six>=1.12.0 in /usr/local/lib/python3.7/dist-packages (from tensorflow==2.3.0) (1.15.0)\n",
            "Requirement already satisfied: protobuf>=3.9.2 in /usr/local/lib/python3.7/dist-packages (from tensorflow==2.3.0) (3.17.3)\n",
            "Requirement already satisfied: termcolor>=1.1.0 in /usr/local/lib/python3.7/dist-packages (from tensorflow==2.3.0) (1.1.0)\n",
            "Requirement already satisfied: wrapt>=1.11.1 in /usr/local/lib/python3.7/dist-packages (from tensorflow==2.3.0) (1.14.1)\n",
            "Requirement already satisfied: grpcio>=1.8.6 in /usr/local/lib/python3.7/dist-packages (from tensorflow==2.3.0) (1.47.0)\n",
            "Requirement already satisfied: astunparse==1.6.3 in /usr/local/lib/python3.7/dist-packages (from tensorflow==2.3.0) (1.6.3)\n",
            "Collecting tensorflow-estimator<2.4.0,>=2.3.0\n",
            "  Downloading tensorflow_estimator-2.3.0-py2.py3-none-any.whl (459 kB)\n",
            "\u001b[K     |████████████████████████████████| 459 kB 61.6 MB/s \n",
            "\u001b[?25hRequirement already satisfied: opt-einsum>=2.3.2 in /usr/local/lib/python3.7/dist-packages (from tensorflow==2.3.0) (3.3.0)\n",
            "Requirement already satisfied: keras-preprocessing<1.2,>=1.1.1 in /usr/local/lib/python3.7/dist-packages (from tensorflow==2.3.0) (1.1.2)\n",
            "Collecting numpy<1.19.0,>=1.16.0\n",
            "  Downloading numpy-1.18.5-cp37-cp37m-manylinux1_x86_64.whl (20.1 MB)\n",
            "\u001b[K     |████████████████████████████████| 20.1 MB 1.3 MB/s \n",
            "\u001b[?25hRequirement already satisfied: google-pasta>=0.1.8 in /usr/local/lib/python3.7/dist-packages (from tensorflow==2.3.0) (0.2.0)\n",
            "Requirement already satisfied: werkzeug>=0.11.15 in /usr/local/lib/python3.7/dist-packages (from tensorboard<3,>=2.3.0->tensorflow==2.3.0) (1.0.1)\n",
            "Requirement already satisfied: google-auth<3,>=1.6.3 in /usr/local/lib/python3.7/dist-packages (from tensorboard<3,>=2.3.0->tensorflow==2.3.0) (1.35.0)\n",
            "Requirement already satisfied: tensorboard-data-server<0.7.0,>=0.6.0 in /usr/local/lib/python3.7/dist-packages (from tensorboard<3,>=2.3.0->tensorflow==2.3.0) (0.6.1)\n",
            "Requirement already satisfied: tensorboard-plugin-wit>=1.6.0 in /usr/local/lib/python3.7/dist-packages (from tensorboard<3,>=2.3.0->tensorflow==2.3.0) (1.8.1)\n",
            "Requirement already satisfied: google-auth-oauthlib<0.5,>=0.4.1 in /usr/local/lib/python3.7/dist-packages (from tensorboard<3,>=2.3.0->tensorflow==2.3.0) (0.4.6)\n",
            "Requirement already satisfied: markdown>=2.6.8 in /usr/local/lib/python3.7/dist-packages (from tensorboard<3,>=2.3.0->tensorflow==2.3.0) (3.4.1)\n",
            "Requirement already satisfied: requests<3,>=2.21.0 in /usr/local/lib/python3.7/dist-packages (from tensorboard<3,>=2.3.0->tensorflow==2.3.0) (2.23.0)\n",
            "Requirement already satisfied: setuptools>=41.0.0 in /usr/local/lib/python3.7/dist-packages (from tensorboard<3,>=2.3.0->tensorflow==2.3.0) (57.4.0)\n",
            "Requirement already satisfied: cachetools<5.0,>=2.0.0 in /usr/local/lib/python3.7/dist-packages (from google-auth<3,>=1.6.3->tensorboard<3,>=2.3.0->tensorflow==2.3.0) (4.2.4)\n",
            "Requirement already satisfied: rsa<5,>=3.1.4 in /usr/local/lib/python3.7/dist-packages (from google-auth<3,>=1.6.3->tensorboard<3,>=2.3.0->tensorflow==2.3.0) (4.8)\n",
            "Requirement already satisfied: pyasn1-modules>=0.2.1 in /usr/local/lib/python3.7/dist-packages (from google-auth<3,>=1.6.3->tensorboard<3,>=2.3.0->tensorflow==2.3.0) (0.2.8)\n",
            "Requirement already satisfied: requests-oauthlib>=0.7.0 in /usr/local/lib/python3.7/dist-packages (from google-auth-oauthlib<0.5,>=0.4.1->tensorboard<3,>=2.3.0->tensorflow==2.3.0) (1.3.1)\n",
            "Requirement already satisfied: importlib-metadata>=4.4 in /usr/local/lib/python3.7/dist-packages (from markdown>=2.6.8->tensorboard<3,>=2.3.0->tensorflow==2.3.0) (4.12.0)\n",
            "Requirement already satisfied: typing-extensions>=3.6.4 in /usr/local/lib/python3.7/dist-packages (from importlib-metadata>=4.4->markdown>=2.6.8->tensorboard<3,>=2.3.0->tensorflow==2.3.0) (4.1.1)\n",
            "Requirement already satisfied: zipp>=0.5 in /usr/local/lib/python3.7/dist-packages (from importlib-metadata>=4.4->markdown>=2.6.8->tensorboard<3,>=2.3.0->tensorflow==2.3.0) (3.8.1)\n",
            "Requirement already satisfied: pyasn1<0.5.0,>=0.4.6 in /usr/local/lib/python3.7/dist-packages (from pyasn1-modules>=0.2.1->google-auth<3,>=1.6.3->tensorboard<3,>=2.3.0->tensorflow==2.3.0) (0.4.8)\n",
            "Requirement already satisfied: certifi>=2017.4.17 in /usr/local/lib/python3.7/dist-packages (from requests<3,>=2.21.0->tensorboard<3,>=2.3.0->tensorflow==2.3.0) (2022.6.15)\n",
            "Requirement already satisfied: urllib3!=1.25.0,!=1.25.1,<1.26,>=1.21.1 in /usr/local/lib/python3.7/dist-packages (from requests<3,>=2.21.0->tensorboard<3,>=2.3.0->tensorflow==2.3.0) (1.24.3)\n",
            "Requirement already satisfied: chardet<4,>=3.0.2 in /usr/local/lib/python3.7/dist-packages (from requests<3,>=2.21.0->tensorboard<3,>=2.3.0->tensorflow==2.3.0) (3.0.4)\n",
            "Requirement already satisfied: idna<3,>=2.5 in /usr/local/lib/python3.7/dist-packages (from requests<3,>=2.21.0->tensorboard<3,>=2.3.0->tensorflow==2.3.0) (2.10)\n",
            "Requirement already satisfied: oauthlib>=3.0.0 in /usr/local/lib/python3.7/dist-packages (from requests-oauthlib>=0.7.0->google-auth-oauthlib<0.5,>=0.4.1->tensorboard<3,>=2.3.0->tensorflow==2.3.0) (3.2.0)\n",
            "Installing collected packages: numpy, tensorflow-estimator, scipy, h5py, gast, tensorflow\n",
            "  Attempting uninstall: numpy\n",
            "    Found existing installation: numpy 1.21.6\n",
            "    Uninstalling numpy-1.21.6:\n",
            "      Successfully uninstalled numpy-1.21.6\n",
            "  Attempting uninstall: tensorflow-estimator\n",
            "    Found existing installation: tensorflow-estimator 2.8.0\n",
            "    Uninstalling tensorflow-estimator-2.8.0:\n",
            "      Successfully uninstalled tensorflow-estimator-2.8.0\n",
            "  Attempting uninstall: scipy\n",
            "    Found existing installation: scipy 1.7.3\n",
            "    Uninstalling scipy-1.7.3:\n",
            "      Successfully uninstalled scipy-1.7.3\n",
            "  Attempting uninstall: h5py\n",
            "    Found existing installation: h5py 3.1.0\n",
            "    Uninstalling h5py-3.1.0:\n",
            "      Successfully uninstalled h5py-3.1.0\n",
            "  Attempting uninstall: gast\n",
            "    Found existing installation: gast 0.5.3\n",
            "    Uninstalling gast-0.5.3:\n",
            "      Successfully uninstalled gast-0.5.3\n",
            "  Attempting uninstall: tensorflow\n",
            "    Found existing installation: tensorflow 2.8.2+zzzcolab20220719082949\n",
            "    Uninstalling tensorflow-2.8.2+zzzcolab20220719082949:\n",
            "      Successfully uninstalled tensorflow-2.8.2+zzzcolab20220719082949\n",
            "\u001b[31mERROR: pip's dependency resolver does not currently take into account all the packages that are installed. This behaviour is the source of the following dependency conflicts.\n",
            "xarray-einstats 0.2.2 requires numpy>=1.21, but you have numpy 1.18.5 which is incompatible.\n",
            "tables 3.7.0 requires numpy>=1.19.0, but you have numpy 1.18.5 which is incompatible.\n",
            "pymc3 3.11.5 requires scipy<1.8.0,>=1.7.3, but you have scipy 1.4.1 which is incompatible.\n",
            "jaxlib 0.3.14+cuda11.cudnn805 requires numpy>=1.19, but you have numpy 1.18.5 which is incompatible.\n",
            "jaxlib 0.3.14+cuda11.cudnn805 requires scipy>=1.5, but you have scipy 1.4.1 which is incompatible.\n",
            "jax 0.3.14 requires numpy>=1.19, but you have numpy 1.18.5 which is incompatible.\n",
            "jax 0.3.14 requires scipy>=1.5, but you have scipy 1.4.1 which is incompatible.\n",
            "datascience 0.10.6 requires folium==0.2.1, but you have folium 0.8.3 which is incompatible.\n",
            "albumentations 0.1.12 requires imgaug<0.2.7,>=0.2.5, but you have imgaug 0.2.9 which is incompatible.\u001b[0m\n",
            "Successfully installed gast-0.3.3 h5py-2.10.0 numpy-1.18.5 scipy-1.4.1 tensorflow-2.3.0 tensorflow-estimator-2.3.0\n"
          ]
        },
        {
          "output_type": "display_data",
          "data": {
            "application/vnd.colab-display-data+json": {
              "pip_warning": {
                "packages": [
                  "numpy"
                ]
              }
            }
          },
          "metadata": {}
        },
        {
          "output_type": "stream",
          "name": "stdout",
          "text": [
            "Looking in indexes: https://pypi.org/simple, https://us-python.pkg.dev/colab-wheels/public/simple/\n",
            "Requirement already satisfied: keras in /usr/local/lib/python3.7/dist-packages (2.8.0)\n",
            "Looking in indexes: https://pypi.org/simple, https://us-python.pkg.dev/colab-wheels/public/simple/\n",
            "Collecting keras-rl2\n",
            "  Downloading keras_rl2-1.0.5-py3-none-any.whl (52 kB)\n",
            "\u001b[K     |████████████████████████████████| 52 kB 695 kB/s \n",
            "\u001b[?25hRequirement already satisfied: tensorflow in /usr/local/lib/python3.7/dist-packages (from keras-rl2) (2.3.0)\n",
            "Requirement already satisfied: absl-py>=0.7.0 in /usr/local/lib/python3.7/dist-packages (from tensorflow->keras-rl2) (1.2.0)\n",
            "Requirement already satisfied: numpy<1.19.0,>=1.16.0 in /usr/local/lib/python3.7/dist-packages (from tensorflow->keras-rl2) (1.18.5)\n",
            "Requirement already satisfied: google-pasta>=0.1.8 in /usr/local/lib/python3.7/dist-packages (from tensorflow->keras-rl2) (0.2.0)\n",
            "Requirement already satisfied: h5py<2.11.0,>=2.10.0 in /usr/local/lib/python3.7/dist-packages (from tensorflow->keras-rl2) (2.10.0)\n",
            "Requirement already satisfied: protobuf>=3.9.2 in /usr/local/lib/python3.7/dist-packages (from tensorflow->keras-rl2) (3.17.3)\n",
            "Requirement already satisfied: keras-preprocessing<1.2,>=1.1.1 in /usr/local/lib/python3.7/dist-packages (from tensorflow->keras-rl2) (1.1.2)\n",
            "Requirement already satisfied: wrapt>=1.11.1 in /usr/local/lib/python3.7/dist-packages (from tensorflow->keras-rl2) (1.14.1)\n",
            "Requirement already satisfied: grpcio>=1.8.6 in /usr/local/lib/python3.7/dist-packages (from tensorflow->keras-rl2) (1.47.0)\n",
            "Requirement already satisfied: termcolor>=1.1.0 in /usr/local/lib/python3.7/dist-packages (from tensorflow->keras-rl2) (1.1.0)\n",
            "Requirement already satisfied: six>=1.12.0 in /usr/local/lib/python3.7/dist-packages (from tensorflow->keras-rl2) (1.15.0)\n",
            "Requirement already satisfied: opt-einsum>=2.3.2 in /usr/local/lib/python3.7/dist-packages (from tensorflow->keras-rl2) (3.3.0)\n",
            "Requirement already satisfied: scipy==1.4.1 in /usr/local/lib/python3.7/dist-packages (from tensorflow->keras-rl2) (1.4.1)\n",
            "Requirement already satisfied: tensorflow-estimator<2.4.0,>=2.3.0 in /usr/local/lib/python3.7/dist-packages (from tensorflow->keras-rl2) (2.3.0)\n",
            "Requirement already satisfied: tensorboard<3,>=2.3.0 in /usr/local/lib/python3.7/dist-packages (from tensorflow->keras-rl2) (2.8.0)\n",
            "Requirement already satisfied: gast==0.3.3 in /usr/local/lib/python3.7/dist-packages (from tensorflow->keras-rl2) (0.3.3)\n",
            "Requirement already satisfied: wheel>=0.26 in /usr/local/lib/python3.7/dist-packages (from tensorflow->keras-rl2) (0.37.1)\n",
            "Requirement already satisfied: astunparse==1.6.3 in /usr/local/lib/python3.7/dist-packages (from tensorflow->keras-rl2) (1.6.3)\n",
            "Requirement already satisfied: markdown>=2.6.8 in /usr/local/lib/python3.7/dist-packages (from tensorboard<3,>=2.3.0->tensorflow->keras-rl2) (3.4.1)\n",
            "Requirement already satisfied: tensorboard-plugin-wit>=1.6.0 in /usr/local/lib/python3.7/dist-packages (from tensorboard<3,>=2.3.0->tensorflow->keras-rl2) (1.8.1)\n",
            "Requirement already satisfied: google-auth<3,>=1.6.3 in /usr/local/lib/python3.7/dist-packages (from tensorboard<3,>=2.3.0->tensorflow->keras-rl2) (1.35.0)\n",
            "Requirement already satisfied: google-auth-oauthlib<0.5,>=0.4.1 in /usr/local/lib/python3.7/dist-packages (from tensorboard<3,>=2.3.0->tensorflow->keras-rl2) (0.4.6)\n",
            "Requirement already satisfied: setuptools>=41.0.0 in /usr/local/lib/python3.7/dist-packages (from tensorboard<3,>=2.3.0->tensorflow->keras-rl2) (57.4.0)\n",
            "Requirement already satisfied: werkzeug>=0.11.15 in /usr/local/lib/python3.7/dist-packages (from tensorboard<3,>=2.3.0->tensorflow->keras-rl2) (1.0.1)\n",
            "Requirement already satisfied: tensorboard-data-server<0.7.0,>=0.6.0 in /usr/local/lib/python3.7/dist-packages (from tensorboard<3,>=2.3.0->tensorflow->keras-rl2) (0.6.1)\n",
            "Requirement already satisfied: requests<3,>=2.21.0 in /usr/local/lib/python3.7/dist-packages (from tensorboard<3,>=2.3.0->tensorflow->keras-rl2) (2.23.0)\n",
            "Requirement already satisfied: rsa<5,>=3.1.4 in /usr/local/lib/python3.7/dist-packages (from google-auth<3,>=1.6.3->tensorboard<3,>=2.3.0->tensorflow->keras-rl2) (4.8)\n",
            "Requirement already satisfied: pyasn1-modules>=0.2.1 in /usr/local/lib/python3.7/dist-packages (from google-auth<3,>=1.6.3->tensorboard<3,>=2.3.0->tensorflow->keras-rl2) (0.2.8)\n",
            "Requirement already satisfied: cachetools<5.0,>=2.0.0 in /usr/local/lib/python3.7/dist-packages (from google-auth<3,>=1.6.3->tensorboard<3,>=2.3.0->tensorflow->keras-rl2) (4.2.4)\n",
            "Requirement already satisfied: requests-oauthlib>=0.7.0 in /usr/local/lib/python3.7/dist-packages (from google-auth-oauthlib<0.5,>=0.4.1->tensorboard<3,>=2.3.0->tensorflow->keras-rl2) (1.3.1)\n",
            "Requirement already satisfied: importlib-metadata>=4.4 in /usr/local/lib/python3.7/dist-packages (from markdown>=2.6.8->tensorboard<3,>=2.3.0->tensorflow->keras-rl2) (4.12.0)\n",
            "Requirement already satisfied: typing-extensions>=3.6.4 in /usr/local/lib/python3.7/dist-packages (from importlib-metadata>=4.4->markdown>=2.6.8->tensorboard<3,>=2.3.0->tensorflow->keras-rl2) (4.1.1)\n",
            "Requirement already satisfied: zipp>=0.5 in /usr/local/lib/python3.7/dist-packages (from importlib-metadata>=4.4->markdown>=2.6.8->tensorboard<3,>=2.3.0->tensorflow->keras-rl2) (3.8.1)\n",
            "Requirement already satisfied: pyasn1<0.5.0,>=0.4.6 in /usr/local/lib/python3.7/dist-packages (from pyasn1-modules>=0.2.1->google-auth<3,>=1.6.3->tensorboard<3,>=2.3.0->tensorflow->keras-rl2) (0.4.8)\n",
            "Requirement already satisfied: urllib3!=1.25.0,!=1.25.1,<1.26,>=1.21.1 in /usr/local/lib/python3.7/dist-packages (from requests<3,>=2.21.0->tensorboard<3,>=2.3.0->tensorflow->keras-rl2) (1.24.3)\n",
            "Requirement already satisfied: chardet<4,>=3.0.2 in /usr/local/lib/python3.7/dist-packages (from requests<3,>=2.21.0->tensorboard<3,>=2.3.0->tensorflow->keras-rl2) (3.0.4)\n",
            "Requirement already satisfied: certifi>=2017.4.17 in /usr/local/lib/python3.7/dist-packages (from requests<3,>=2.21.0->tensorboard<3,>=2.3.0->tensorflow->keras-rl2) (2022.6.15)\n",
            "Requirement already satisfied: idna<3,>=2.5 in /usr/local/lib/python3.7/dist-packages (from requests<3,>=2.21.0->tensorboard<3,>=2.3.0->tensorflow->keras-rl2) (2.10)\n",
            "Requirement already satisfied: oauthlib>=3.0.0 in /usr/local/lib/python3.7/dist-packages (from requests-oauthlib>=0.7.0->google-auth-oauthlib<0.5,>=0.4.1->tensorboard<3,>=2.3.0->tensorflow->keras-rl2) (3.2.0)\n",
            "Installing collected packages: keras-rl2\n",
            "Successfully installed keras-rl2-1.0.5\n"
          ]
        }
      ],
      "source": [
        "!pip install tensorflow\n",
        "!pip install keras\n",
        "!pip install keras-rl2"
      ]
    },
    {
      "cell_type": "markdown",
      "source": [
        "#Rendering Dependancies"
      ],
      "metadata": {
        "id": "uAkw0W6kS9zA"
      }
    },
    {
      "cell_type": "code",
      "source": [
        "#remove \" > /dev/null 2>&1\" to see what is going on under the hood\n",
        "!pip install gym pyvirtualdisplay > /dev/null 2>&1\n",
        "!apt-get install -y xvfb python-opengl ffmpeg > /dev/null 2>&1"
      ],
      "metadata": {
        "id": "kmSCQraqSptN"
      },
      "execution_count": null,
      "outputs": []
    },
    {
      "cell_type": "markdown",
      "source": [
        "#Gym"
      ],
      "metadata": {
        "id": "cGjt8y_xTUPv"
      }
    },
    {
      "cell_type": "code",
      "source": [
        "!pip install gym[all] > /dev/null 2>&1"
      ],
      "metadata": {
        "id": "AiNV6SgwMD2r"
      },
      "execution_count": null,
      "outputs": []
    },
    {
      "cell_type": "markdown",
      "source": [
        "#Imports and Helper functions"
      ],
      "metadata": {
        "id": "BuZXNeQuTh-z"
      }
    },
    {
      "cell_type": "code",
      "source": [
        "import gym\n",
        "from gym import logger as gymlogger\n",
        "from gym.wrappers import Monitor\n",
        "gymlogger.set_level(40) #error only\n",
        "\n",
        "import tensorflow\n",
        "import numpy as np\n",
        "import random\n",
        "import matplotlib\n",
        "import matplotlib.pyplot as plt\n",
        "%matplotlib inline\n",
        "import math\n",
        "import glob\n",
        "import io\n",
        "import base64\n",
        "from IPython.display import HTML\n",
        "\n",
        "from IPython import display as ipythondisplay"
      ],
      "metadata": {
        "id": "vOhjC-L-p_9M"
      },
      "execution_count": null,
      "outputs": []
    },
    {
      "cell_type": "markdown",
      "source": [
        "#Definir display"
      ],
      "metadata": {
        "id": "iTlfmUsFT7Vj"
      }
    },
    {
      "cell_type": "code",
      "source": [
        "from pyvirtualdisplay import Display\n",
        "display = Display(visible=0, size=(1400, 900))\n",
        "display.start()"
      ],
      "metadata": {
        "colab": {
          "base_uri": "https://localhost:8080/"
        },
        "id": "nNTJoUTtT-DW",
        "outputId": "66ae21e6-d4fb-4908-d272-bc6593f145fb"
      },
      "execution_count": null,
      "outputs": [
        {
          "output_type": "execute_result",
          "data": {
            "text/plain": [
              "<pyvirtualdisplay.display.Display at 0x7f2ff6b13b10>"
            ]
          },
          "metadata": {},
          "execution_count": 24
        }
      ]
    },
    {
      "cell_type": "markdown",
      "source": [
        "#Utils"
      ],
      "metadata": {
        "id": "mvT2SxVkUOTd"
      }
    },
    {
      "cell_type": "code",
      "source": [
        "\"\"\"\n",
        "Utility functions to enable video recording of gym environment and displaying it\n",
        "To enable video, just do \"env = wrap_env(env)\"\"\n",
        "\"\"\"\n",
        "\n",
        "def show_video():\n",
        "  mp4list = glob.glob('video/*.mp4')\n",
        "  if len(mp4list) > 0:\n",
        "    mp4 = mp4list[0]\n",
        "    video = io.open(mp4, 'r+b').read()\n",
        "    encoded = base64.b64encode(video)\n",
        "    ipythondisplay.display(HTML(data='''<video alt=\"test\" autoplay \n",
        "                loop controls style=\"height: 400px;\">\n",
        "                <source src=\"data:video/mp4;base64,{0}\" type=\"video/mp4\" />\n",
        "             </video>'''.format(encoded.decode('ascii'))))\n",
        "  else: \n",
        "    print(\"Could not find video\")\n",
        "    \n",
        "\n",
        "def wrap_env(env):\n",
        "  env = Monitor(env, './video', force=True)\n",
        "  return env"
      ],
      "metadata": {
        "id": "d8kcmqCvUP4m"
      },
      "execution_count": null,
      "outputs": []
    },
    {
      "cell_type": "markdown",
      "source": [
        "#Reinforcement Leaning"
      ],
      "metadata": {
        "id": "uDoqdnCQURzy"
      }
    },
    {
      "cell_type": "code",
      "source": [
        "env = wrap_env(gym.make('CartPole-v0'))\n",
        "states = env.observation_space.shape[0]\n",
        "actions = env.action_space.n #left or right"
      ],
      "metadata": {
        "id": "_RYYNmJsrEzr"
      },
      "execution_count": null,
      "outputs": []
    },
    {
      "cell_type": "code",
      "source": [
        "print(states, actions)"
      ],
      "metadata": {
        "colab": {
          "base_uri": "https://localhost:8080/"
        },
        "id": "WLhdUG5THFwE",
        "outputId": "edfd66db-68aa-49d5-ea4b-5185f2f487e5"
      },
      "execution_count": null,
      "outputs": [
        {
          "output_type": "stream",
          "name": "stdout",
          "text": [
            "4 2\n"
          ]
        }
      ]
    },
    {
      "cell_type": "code",
      "source": [
        "episodes = 10\n",
        "for episode in range(1, episodes+1):\n",
        "    state = env.reset() #observetion\n",
        "    done = False\n",
        "    score = 0\n",
        "\n",
        "    while not done:\n",
        "        \n",
        "        env.render()\n",
        "        action = random.choice([0, 1]) #selecionar randomicamente a ação (esquerda ou direita)\n",
        "        n_state, reward, done, info = env.step(action)\n",
        "        score += reward\n",
        "\n",
        "    env.close()\n",
        "    show_video()\n",
        "    \n",
        "    print('Episode: {} Score: {}'.format(episode, score))\n",
        "\n"
      ],
      "metadata": {
        "colab": {
          "base_uri": "https://localhost:8080/",
          "height": 1000
        },
        "id": "6T_ZzwBCHKhv",
        "outputId": "267f48d7-99c6-4c33-9fe0-69bcb792bacc"
      },
      "execution_count": null,
      "outputs": [
        {
          "output_type": "display_data",
          "data": {
            "text/plain": [
              "<IPython.core.display.HTML object>"
            ],
            "text/html": [
              "<video alt=\"test\" autoplay \n",
              "                loop controls style=\"height: 400px;\">\n",
              "                <source src=\"data:video/mp4;base64,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\" type=\"video/mp4\" />\n",
              "             </video>"
            ]
          },
          "metadata": {}
        },
        {
          "output_type": "stream",
          "name": "stdout",
          "text": [
            "Episode: 1 Score: 20.0\n"
          ]
        },
        {
          "output_type": "display_data",
          "data": {
            "text/plain": [
              "<IPython.core.display.HTML object>"
            ],
            "text/html": [
              "<video alt=\"test\" autoplay \n",
              "                loop controls style=\"height: 400px;\">\n",
              "                <source src=\"data:video/mp4;base64,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\" type=\"video/mp4\" />\n",
              "             </video>"
            ]
          },
          "metadata": {}
        },
        {
          "output_type": "stream",
          "name": "stdout",
          "text": [
            "Episode: 2 Score: 21.0\n"
          ]
        },
        {
          "output_type": "display_data",
          "data": {
            "text/plain": [
              "<IPython.core.display.HTML object>"
            ],
            "text/html": [
              "<video alt=\"test\" autoplay \n",
              "                loop controls style=\"height: 400px;\">\n",
              "                <source src=\"data:video/mp4;base64,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\" type=\"video/mp4\" />\n",
              "             </video>"
            ]
          },
          "metadata": {}
        },
        {
          "output_type": "stream",
          "name": "stdout",
          "text": [
            "Episode: 3 Score: 15.0\n"
          ]
        },
        {
          "output_type": "display_data",
          "data": {
            "text/plain": [
              "<IPython.core.display.HTML object>"
            ],
            "text/html": [
              "<video alt=\"test\" autoplay \n",
              "                loop controls style=\"height: 400px;\">\n",
              "                <source src=\"data:video/mp4;base64,AAAAIGZ0eXBpc29tAAACAGlzb21pc28yYXZjMW1wNDEAAAAIZnJlZQAADAttZGF0AAACrgYF//+q3EXpvebZSLeWLNgg2SPu73gyNjQgLSBjb3JlIDE1MiByMjg1NCBlOWE1OTAzIC0gSC4yNjQvTVBFRy00IEFWQyBjb2RlYyAtIENvcHlsZWZ0IDIwMDMtMjAxNyAtIGh0dHA6Ly93d3cudmlkZW9sYW4ub3JnL3gyNjQuaHRtbCAtIG9wdGlvbnM6IGNhYmFjPTEgcmVmPTMgZGVibG9jaz0xOjA6MCBhbmFseXNlPTB4MzoweDExMyBtZT1oZXggc3VibWU9NyBwc3k9MSBwc3lfcmQ9MS4wMDowLjAwIG1peGVkX3JlZj0xIG1lX3JhbmdlPTE2IGNocm9tYV9tZT0xIHRyZWxsaXM9MSA4eDhkY3Q9MSBjcW09MCBkZWFkem9uZT0yMSwxMSBmYXN0X3Bza2lwPTEgY2hyb21hX3FwX29mZnNldD0tMiB0aHJlYWRzPTMgbG9va2FoZWFkX3RocmVhZHM9MSBzbGljZWRfdGhyZWFkcz0wIG5yPTAgZGVjaW1hdGU9MSBpbnRlcmxhY2VkPTAgYmx1cmF5X2NvbXBhdD0wIGNvbnN0cmFpbmVkX2ludHJhPTAgYmZyYW1lcz0zIGJfcHlyYW1pZD0yIGJfYWRhcHQ9MSBiX2JpYXM9MCBkaXJlY3Q9MSB3ZWlnaHRiPTEgb3Blbl9nb3A9MCB3ZWlnaHRwPTIga2V5aW50PTI1MCBrZXlpbnRfbWluPTI1IHNjZW5lY3V0PTQwIGludHJhX3JlZnJlc2g9MCByY19sb29rYWhlYWQ9NDAgcmM9Y3JmIG1idHJlZT0xIGNyZj0yMy4wIHFjb21wPTAuNjAgcXBtaW49MCBxcG1heD02OSBxcHN0ZXA9NCBpcF9yYXRpbz0xLjQwIGFxPTE6MS4wMACAAAACDWWIhAAv//72rvzLK0cLlS4dWXuzUfLoSXL9iDB9aAAAAwAAAwAAJuKiZ0WFMeJsgAAALmAIWElDyDzETFWKgSvGXweETYA6FP5GMrCvv6BlZP66NOGd/o1kys+pZscEI4dxVZVUZJqHrXqptdL8Tv1Y7CMYjQ7vjFiECK0GYOQ05NMp1nu9ysVU6emfYzqv/x2vTPsZ1T/IBK8ulxawNl9rXB3+LsArkOr0BD+nLxbm4uhZKShBWULqLfrp9k2NS8Enhq/CqVRlTxI/s8Wk4uBNEWqYctn9gsXO7kyuzt4WYfHpLmlKMZYVxxvNKWiCos0YR9qQX+olnoiQFO0/OZ2BuGQTpSFiRd2R5hiHlP+fOLac2mXhGS7+EFbvCnBTL6c/cQN/63gSLPNaW3WoG56dcL6ZvClGXOa7vK9Gb5p1ZjxFiQFq/PiDMRDi4pHj/qKZ204hZsUKDReJp4+QD6IO4omXi+Gy5XSYuNLAwRBVChwcLEDBzOGPCwXIL7U7j6iSazYEG9Txd+hHXJyiP8xVcLiL5y719g2BYAGZcAswaLQm0ptLlxaY7C9iP0ctLgfGRfwYjZDFmcfy95pNPguuIAa2UNvnowAlP2D1BDFyPmHFdW7iQaBywqMFzZYgyqVQcvLtbRoFKpr8x7Eyb7UygFIV2l+Me6vKvXZHUYF6HAtwAAADAAADAABXwQAAAKBBmiJsQv/+jLAAAEQZZjQVeY9lzfW42phhjtd1Ytn+lNcuk3KLlceFQl3/1kAjyTQIZOVeDLLzIwL3CI/IjZ6Yx6Q9Q1j8FaA0HCNdXbe/Mqg+b0V9zM195Hhdy+oeh7SQEimGwSVuCS7SZiBxogbuREP7tSLmMe1ovpvYJikt5clWEjSznh3NH0hPm1Logpm6AAADAABEW5w0zFUo3DOUAAAAMAGeQXkf/wAADYI98UsBu6Iud6GKr3JeUK+ACdMEJ7RP3lblKpkgAAADAAN1TcIEfQAAAK5BmkY8IZMphC///oywAABGJaSVVpzcujACw74Doczs7pdzEG+vOT6p+1MmFzWqairEy5Wdcwa/jgkrzP1wMRlr+RTBErtphrGzxfvpy+mhQD6M5EFvQjQaeYSJucMP8frCQSxYUoqCFlgFzmpjBWG7qs8UytOUD5MViMuicKO72vz5bUtHsXhyO77d9I5LrvAl0d3vEVyxcrMP5u4mnAxm4HuCSgXXJjRA97nrRAIAAABEQZ5kalPCPwAAFrUrMmDeh4RCI0+BrtoIz49ua/Crl5hJLfEvAASyJV9zyGCGTgWxIrseFv+d8gRd4hktbL8Js/ihHpEAAAA5AZ6DdEf/AAAjq/hcKZVBl9HsUAetklWo6wukGpubpwMLjf7lVEaR+gBMias7kz3otYigTaO2qoopAAAAKgGehWpH/wAADYJotNM1JoR4DC+qz2GRIsB9ov+3p7fhNoPIred6Z8h0wQAAAFlBmopJqEFomUwIV//+OEAAAQz64J5c9/OD0W2acU0Zoe6m1GnIAp5jtak+QSDAylM8S8sLqKTd3XOtl4/YOpWuTWotZ1gYXuo+8qYE8BaqPReJgeZLNpHRbQAAAEBBnqhFESwj/wAAFsifgCtPqM2u+qZpmkdHWB//eHgxVniPJmgNO2pepJNHMuO1TRigo0fhKEknuogRewPc+zHgAAAALwGex3RH/wAAI6w3bkyOiOddQOx8+kKHMPabz4viKy6kxcB/+61dUDAe4g6nqEiwAAAAJQGeyWpH/wAAI78abT3GxtjVmvU0xK9K/UqMqElXkP3WVK8bMeEAAABcQZrLSahBbJlMCF///oywAABGEP2QFz/pvQjDCZpmCXA/jRkABYelye1VTrLi1VjaUfJytmnHg6kgGF12EnT95kdUZBDaOeCxFRRXuTGOfgkRLu7vanFHQZ60w2gAAACHQZrvSeEKUmUwIV/+OEAAAQzxzErACwtsALE0Kb5r93AJ3zLF8dw5qqq2zapn8X+T3R4KUC+kwt7znRZPD5/KEwtqfrFAN8t9DHSh7Q1tIkHhMvrhTe65TtBNV7RjflhcvTUnhjwn00725faL0NghZzJOP2z310KotqQ+W746opsSd2aonhjAAAAAVEGfDUU0TCP/AAAWsp8GAUQvyep8UOh/47HbXIIHm0fH+2pF/I+ahLlL7PiFb2lIAuvTsqsQAqBv0hgj189bgBOsI00DSnRCleZ3Ht/0/bzk5m4MWQAAAC4Bnyx0R/8AACPDF2QsKATEY6R/tEALg/+gSMiatMhGLAh6nbG6tST/14lZJllfAAAAOAGfLmpH/wAAI64y7wqT84h4hLXzYLBlZ5esc4Jxoq2yfT8w9ge7lzR1DxEIEf6n9kUCV/O7khixAAAAtkGbM0moQWiZTAhH//3hAAAEG904iBRGuABGADpOGmQueOBBfEzXZfhScHQ1d9nV4afdn0Q27E/qjw66GPffNI5WceQaxsOVU9eR+pkRgEEGsSJb9xY7ciZcdptFRk/qljeT+J3xVbxkqibwPNm85CMOr26cNS2ruXAK+F0lwD08xLEb76whq/XKZ3AGasr/3IgVwd5BrkHxbMPAzo9ST7Q/qY2GR7zMSYFPxAPHRcWbSpl5CtGHAAAAk0GfUUURLCP/AAAWdTWgEDjxx+aCdmHrYMpiv6RfllSZqi/4pMn9Z+nytt3g2fFJZYdIG07rXDAVjDQjxP0u3pVFLp6KIBm0V4TihUO4iMdLPwZYp2cz4el3KbsaZ5qAtqEv8TGCbfqdbD6iP5CqITRAopIK7Cp28Zv6GXPyv5LZl60bW8jhMQsPjbsNYep9S3GjUgAAAFMBn3B0R/8AACPAtsnvSwAi2zaqUgyV3DqfObexREZfBdsbV2a+LXYa5sCvAEnQsoOOvWRfeisWFkstkz3owo15DxS2uPhpcmxTHpJMwzt3BeAU2QAAAEsBn3JqR/8AACNLRn344HMADj1gYI7elasK1khhq4NT0d6hGwWZDo+eYYy/ZUQQLi//Br5PrTVQ1q1kKXbzjCRyioccqp7sRJucXBAAAABaQZt0SahBbJlMCP/8hAAAD4tw/3/g0u9hUf4BJR4nqT5rioH3OR2fyNjjUNQtEAqXE4hFXIbUPdYM2r2Q2bQbD6cdC/Fd3ACdYcCyVI9dBfS8DmoTANjQdPVuAAAED21vb3YAAABsbXZoZAAAAAAAAAAAAAAAAAAAA+gAAAGkAAEAAAEAAAAAAAAAAAAAAAABAAAAAAAAAAAAAAAAAAAAAQAAAAAAAAAAAAAAAAAAQAAAAAAAAAAAAAAAAAAAAAAAAAAAAAAAAAAAAAAAAAIAAAM5dHJhawAAAFx0a2hkAAAAAwAAAAAAAAAAAAAAAQAAAAAAAAGkAAAAAAAAAAAAAAAAAAAAAAABAAAAAAAAAAAAAAAAAAAAAQAAAAAAAAAAAAAAAAAAQAAAAAJYAAABkAAAAAAAJGVkdHMAAAAcZWxzdAAAAAAAAAABAAABpAAAAgAAAQAAAAACsW1kaWEAAAAgbWRoZAAAAAAAAAAAAAAAAAAAMgAAABUAVcQAAAAAAC1oZGxyAAAAAAAAAAB2aWRlAAAAAAAAAAAAAAAAVmlkZW9IYW5kbGVyAAAAAlxtaW5mAAAAFHZtaGQAAAABAAAAAAAAAAAAAAAkZGluZgAAABxkcmVmAAAAAAAAAAEAAAAMdXJsIAAAAAEAAAIcc3RibAAAAJhzdHNkAAAAAAAAAAEAAACIYXZjMQAAAAAAAAABAAAAAAAAAAAAAAAAAAAAAAJYAZAASAAAAEgAAAAAAAAAAQAAAAAAAAAAAAAAAAAAAAAAAAAAAAAAAAAAAAAAAAAAABj//wAAADJhdmNDAWQAH//hABlnZAAfrNlAmDPl4QAAAwABAAADAGQPGDGWAQAGaOvjyyLAAAAAGHN0dHMAAAAAAAAAAQAAABUAAAEAAAAAFHN0c3MAAAAAAAAAAQAAAAEAAAC4Y3R0cwAAAAAAAAAVAAAAAQAAAgAAAAABAAADAAAAAAEAAAEAAAAAAQAABQAAAAABAAACAAAAAAEAAAAAAAAAAQAAAQAAAAABAAAFAAAAAAEAAAIAAAAAAQAAAAAAAAABAAABAAAAAAEAAAIAAAAAAQAABQAAAAABAAACAAAAAAEAAAAAAAAAAQAAAQAAAAABAAAFAAAAAAEAAAIAAAAAAQAAAAAAAAABAAABAAAAAAEAAAIAAAAAHHN0c2MAAAAAAAAAAQAAAAEAAAAVAAAAAQAAAGhzdHN6AAAAAAAAAAAAAAAVAAAEwwAAAKQAAAA0AAAAsgAAAEgAAAA9AAAALgAAAF0AAABEAAAAMwAAACkAAABgAAAAiwAAAFgAAAAyAAAAPAAAALoAAACXAAAAVwAAAE8AAABeAAAAFHN0Y28AAAAAAAAAAQAAADAAAABidWR0YQAAAFptZXRhAAAAAAAAACFoZGxyAAAAAAAAAABtZGlyYXBwbAAAAAAAAAAAAAAAAC1pbHN0AAAAJal0b28AAAAdZGF0YQAAAAEAAAAATGF2ZjU3LjgzLjEwMA==\" type=\"video/mp4\" />\n",
              "             </video>"
            ]
          },
          "metadata": {}
        },
        {
          "output_type": "stream",
          "name": "stdout",
          "text": [
            "Episode: 4 Score: 14.0\n"
          ]
        },
        {
          "output_type": "display_data",
          "data": {
            "text/plain": [
              "<IPython.core.display.HTML object>"
            ],
            "text/html": [
              "<video alt=\"test\" autoplay \n",
              "                loop controls style=\"height: 400px;\">\n",
              "                <source src=\"data:video/mp4;base64,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\" type=\"video/mp4\" />\n",
              "             </video>"
            ]
          },
          "metadata": {}
        },
        {
          "output_type": "stream",
          "name": "stdout",
          "text": [
            "Episode: 5 Score: 14.0\n"
          ]
        },
        {
          "output_type": "display_data",
          "data": {
            "text/plain": [
              "<IPython.core.display.HTML object>"
            ],
            "text/html": [
              "<video alt=\"test\" autoplay \n",
              "                loop controls style=\"height: 400px;\">\n",
              "                <source src=\"data:video/mp4;base64,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\" type=\"video/mp4\" />\n",
              "             </video>"
            ]
          },
          "metadata": {}
        },
        {
          "output_type": "stream",
          "name": "stdout",
          "text": [
            "Episode: 6 Score: 12.0\n"
          ]
        },
        {
          "output_type": "display_data",
          "data": {
            "text/plain": [
              "<IPython.core.display.HTML object>"
            ],
            "text/html": [
              "<video alt=\"test\" autoplay \n",
              "                loop controls style=\"height: 400px;\">\n",
              "                <source src=\"data:video/mp4;base64,AAAAIGZ0eXBpc29tAAACAGlzb21pc28yYXZjMW1wNDEAAAAIZnJlZQAADAttZGF0AAACrgYF//+q3EXpvebZSLeWLNgg2SPu73gyNjQgLSBjb3JlIDE1MiByMjg1NCBlOWE1OTAzIC0gSC4yNjQvTVBFRy00IEFWQyBjb2RlYyAtIENvcHlsZWZ0IDIwMDMtMjAxNyAtIGh0dHA6Ly93d3cudmlkZW9sYW4ub3JnL3gyNjQuaHRtbCAtIG9wdGlvbnM6IGNhYmFjPTEgcmVmPTMgZGVibG9jaz0xOjA6MCBhbmFseXNlPTB4MzoweDExMyBtZT1oZXggc3VibWU9NyBwc3k9MSBwc3lfcmQ9MS4wMDowLjAwIG1peGVkX3JlZj0xIG1lX3JhbmdlPTE2IGNocm9tYV9tZT0xIHRyZWxsaXM9MSA4eDhkY3Q9MSBjcW09MCBkZWFkem9uZT0yMSwxMSBmYXN0X3Bza2lwPTEgY2hyb21hX3FwX29mZnNldD0tMiB0aHJlYWRzPTMgbG9va2FoZWFkX3RocmVhZHM9MSBzbGljZWRfdGhyZWFkcz0wIG5yPTAgZGVjaW1hdGU9MSBpbnRlcmxhY2VkPTAgYmx1cmF5X2NvbXBhdD0wIGNvbnN0cmFpbmVkX2ludHJhPTAgYmZyYW1lcz0zIGJfcHlyYW1pZD0yIGJfYWRhcHQ9MSBiX2JpYXM9MCBkaXJlY3Q9MSB3ZWlnaHRiPTEgb3Blbl9nb3A9MCB3ZWlnaHRwPTIga2V5aW50PTI1MCBrZXlpbnRfbWluPTI1IHNjZW5lY3V0PTQwIGludHJhX3JlZnJlc2g9MCByY19sb29rYWhlYWQ9NDAgcmM9Y3JmIG1idHJlZT0xIGNyZj0yMy4wIHFjb21wPTAuNjAgcXBtaW49MCBxcG1heD02OSBxcHN0ZXA9NCBpcF9yYXRpbz0xLjQwIGFxPTE6MS4wMACAAAACDWWIhAAv//72rvzLK0cLlS4dWXuzUfLoSXL9iDB9aAAAAwAAAwAAJuKiZ0WFMeJsgAAALmAIWElDyDzETFWKgSvGXweETYA6FP5GMrCvv6BlZP66NOGd/o1kys+pZscEI4dxVZVUZJqHrXqptdL8Tv1Y7CMYjQ7vjFiECK0GYOQ05NMp1nu9ysVU6emfYzqv/x2vTPsZ1T/IBK8ulxawNl9rXB3+LsArkOr0BD+nLxbm4uhZKShBWULqLfrp9k2NS8Enhq/CqVRlTxI/s8Wk4uBNEWqYctn9gsXO7kyuzt4WYfHpLmlKMZYVxxvNKWiCos0YR9qQX+olnoiQFO0/OZ2BuGQTpSFiRd2R5hiHlP+fOLac2mXhGS7+EFbvCnBTL6c/cQN/63gSLPNaW3WoG56dcL6ZvClGXOa7vK9Gb5p1ZjxFiQFq/PiDMRDi4pHj/qKZ204hZsUKDReJp4+QD6IO4omXi+Gy5XSYuNLAwRBVChwcLEDBzOGPCwXIL7U7j6iSazYEG9Txd+hHXJyiP8xVcLiL5y719g2BYAGZcAswaLQm0ptLlxaY7C9iP0ctLgfGRfwYjZDFmcfy95pNPguuIAa2UNvnowAlP2D1BDFyPmHFdW7iQaBywqMFzZYgyqVQcvLtbRoFKpr8x7Eyb7UygFIV2l+Me6vKvXZHUYF6HAtwAAADAAADAABXwQAAAKBBmiJsQv/+jLAAAEQZZjQVeY9lzfW42phhjtd1Ytn+lNcuk3KLlceFQl3/1kAjyTQIZOVeDLLzIwL3CI/IjZ6Yx6Q9Q1j8FaA0HCNdXbe/Mqg+b0V9zM195Hhdy+oeh7SQEimGwSVuCS7SZiBxogbuREP7tSLmMe1ovpvYJikt5clWEjSznh3NH0hPm1Logpm6AAADAABEW5w0zFUo3DOUAAAAMAGeQXkf/wAADYI98UsBu6Iud6GKr3JeUK+ACdMEJ7RP3lblKpkgAAADAAN1TcIEfQAAAK5BmkY8IZMphC///oywAABGJaSVVpzcujACw74Doczs7pdzEG+vOT6p+1MmFzWqairEy5Wdcwa/jgkrzP1wMRlr+RTBErtphrGzxfvpy+mhQD6M5EFvQjQaeYSJucMP8frCQSxYUoqCFlgFzmpjBWG7qs8UytOUD5MViMuicKO72vz5bUtHsXhyO77d9I5LrvAl0d3vEVyxcrMP5u4mnAxm4HuCSgXXJjRA97nrRAIAAABEQZ5kalPCPwAAFrUrMmDeh4RCI0+BrtoIz49ua/Crl5hJLfEvAASyJV9zyGCGTgWxIrseFv+d8gRd4hktbL8Js/ihHpEAAAA5AZ6DdEf/AAAjq/hcKZVBl9HsUAetklWo6wukGpubpwMLjf7lVEaR+gBMias7kz3otYigTaO2qoopAAAAKgGehWpH/wAADYJotNM1JoR4DC+qz2GRIsB9ov+3p7fhNoPIred6Z8h0wQAAAFlBmopJqEFomUwIV//+OEAAAQz64J5c9/OD0W2acU0Zoe6m1GnIAp5jtak+QSDAylM8S8sLqKTd3XOtl4/YOpWuTWotZ1gYXuo+8qYE8BaqPReJgeZLNpHRbQAAAEBBnqhFESwj/wAAFsifgCtPqM2u+qZpmkdHWB//eHgxVniPJmgNO2pepJNHMuO1TRigo0fhKEknuogRewPc+zHgAAAALwGex3RH/wAAI6w3bkyOiOddQOx8+kKHMPabz4viKy6kxcB/+61dUDAe4g6nqEiwAAAAJQGeyWpH/wAAI78abT3GxtjVmvU0xK9K/UqMqElXkP3WVK8bMeEAAABcQZrLSahBbJlMCF///oywAABGEP2QFz/pvQjDCZpmCXA/jRkABYelye1VTrLi1VjaUfJytmnHg6kgGF12EnT95kdUZBDaOeCxFRRXuTGOfgkRLu7vanFHQZ60w2gAAACHQZrvSeEKUmUwIV/+OEAAAQzxzErACwtsALE0Kb5r93AJ3zLF8dw5qqq2zapn8X+T3R4KUC+kwt7znRZPD5/KEwtqfrFAN8t9DHSh7Q1tIkHhMvrhTe65TtBNV7RjflhcvTUnhjwn00725faL0NghZzJOP2z310KotqQ+W746opsSd2aonhjAAAAAVEGfDUU0TCP/AAAWsp8GAUQvyep8UOh/47HbXIIHm0fH+2pF/I+ahLlL7PiFb2lIAuvTsqsQAqBv0hgj189bgBOsI00DSnRCleZ3Ht/0/bzk5m4MWQAAAC4Bnyx0R/8AACPDF2QsKATEY6R/tEALg/+gSMiatMhGLAh6nbG6tST/14lZJllfAAAAOAGfLmpH/wAAI64y7wqT84h4hLXzYLBlZ5esc4Jxoq2yfT8w9ge7lzR1DxEIEf6n9kUCV/O7khixAAAAtkGbM0moQWiZTAhH//3hAAAEG904iBRGuABGADpOGmQueOBBfEzXZfhScHQ1d9nV4afdn0Q27E/qjw66GPffNI5WceQaxsOVU9eR+pkRgEEGsSJb9xY7ciZcdptFRk/qljeT+J3xVbxkqibwPNm85CMOr26cNS2ruXAK+F0lwD08xLEb76whq/XKZ3AGasr/3IgVwd5BrkHxbMPAzo9ST7Q/qY2GR7zMSYFPxAPHRcWbSpl5CtGHAAAAk0GfUUURLCP/AAAWdTWgEDjxx+aCdmHrYMpiv6RfllSZqi/4pMn9Z+nytt3g2fFJZYdIG07rXDAVjDQjxP0u3pVFLp6KIBm0V4TihUO4iMdLPwZYp2cz4el3KbsaZ5qAtqEv8TGCbfqdbD6iP5CqITRAopIK7Cp28Zv6GXPyv5LZl60bW8jhMQsPjbsNYep9S3GjUgAAAFMBn3B0R/8AACPAtsnvSwAi2zaqUgyV3DqfObexREZfBdsbV2a+LXYa5sCvAEnQsoOOvWRfeisWFkstkz3owo15DxS2uPhpcmxTHpJMwzt3BeAU2QAAAEsBn3JqR/8AACNLRn344HMADj1gYI7elasK1khhq4NT0d6hGwWZDo+eYYy/ZUQQLi//Br5PrTVQ1q1kKXbzjCRyioccqp7sRJucXBAAAABaQZt0SahBbJlMCP/8hAAAD4tw/3/g0u9hUf4BJR4nqT5rioH3OR2fyNjjUNQtEAqXE4hFXIbUPdYM2r2Q2bQbD6cdC/Fd3ACdYcCyVI9dBfS8DmoTANjQdPVuAAAED21vb3YAAABsbXZoZAAAAAAAAAAAAAAAAAAAA+gAAAGkAAEAAAEAAAAAAAAAAAAAAAABAAAAAAAAAAAAAAAAAAAAAQAAAAAAAAAAAAAAAAAAQAAAAAAAAAAAAAAAAAAAAAAAAAAAAAAAAAAAAAAAAAIAAAM5dHJhawAAAFx0a2hkAAAAAwAAAAAAAAAAAAAAAQAAAAAAAAGkAAAAAAAAAAAAAAAAAAAAAAABAAAAAAAAAAAAAAAAAAAAAQAAAAAAAAAAAAAAAAAAQAAAAAJYAAABkAAAAAAAJGVkdHMAAAAcZWxzdAAAAAAAAAABAAABpAAAAgAAAQAAAAACsW1kaWEAAAAgbWRoZAAAAAAAAAAAAAAAAAAAMgAAABUAVcQAAAAAAC1oZGxyAAAAAAAAAAB2aWRlAAAAAAAAAAAAAAAAVmlkZW9IYW5kbGVyAAAAAlxtaW5mAAAAFHZtaGQAAAABAAAAAAAAAAAAAAAkZGluZgAAABxkcmVmAAAAAAAAAAEAAAAMdXJsIAAAAAEAAAIcc3RibAAAAJhzdHNkAAAAAAAAAAEAAACIYXZjMQAAAAAAAAABAAAAAAAAAAAAAAAAAAAAAAJYAZAASAAAAEgAAAAAAAAAAQAAAAAAAAAAAAAAAAAAAAAAAAAAAAAAAAAAAAAAAAAAABj//wAAADJhdmNDAWQAH//hABlnZAAfrNlAmDPl4QAAAwABAAADAGQPGDGWAQAGaOvjyyLAAAAAGHN0dHMAAAAAAAAAAQAAABUAAAEAAAAAFHN0c3MAAAAAAAAAAQAAAAEAAAC4Y3R0cwAAAAAAAAAVAAAAAQAAAgAAAAABAAADAAAAAAEAAAEAAAAAAQAABQAAAAABAAACAAAAAAEAAAAAAAAAAQAAAQAAAAABAAAFAAAAAAEAAAIAAAAAAQAAAAAAAAABAAABAAAAAAEAAAIAAAAAAQAABQAAAAABAAACAAAAAAEAAAAAAAAAAQAAAQAAAAABAAAFAAAAAAEAAAIAAAAAAQAAAAAAAAABAAABAAAAAAEAAAIAAAAAHHN0c2MAAAAAAAAAAQAAAAEAAAAVAAAAAQAAAGhzdHN6AAAAAAAAAAAAAAAVAAAEwwAAAKQAAAA0AAAAsgAAAEgAAAA9AAAALgAAAF0AAABEAAAAMwAAACkAAABgAAAAiwAAAFgAAAAyAAAAPAAAALoAAACXAAAAVwAAAE8AAABeAAAAFHN0Y28AAAAAAAAAAQAAADAAAABidWR0YQAAAFptZXRhAAAAAAAAACFoZGxyAAAAAAAAAABtZGlyYXBwbAAAAAAAAAAAAAAAAC1pbHN0AAAAJal0b28AAAAdZGF0YQAAAAEAAAAATGF2ZjU3LjgzLjEwMA==\" type=\"video/mp4\" />\n",
              "             </video>"
            ]
          },
          "metadata": {}
        },
        {
          "output_type": "stream",
          "name": "stdout",
          "text": [
            "Episode: 7 Score: 37.0\n"
          ]
        },
        {
          "output_type": "display_data",
          "data": {
            "text/plain": [
              "<IPython.core.display.HTML object>"
            ],
            "text/html": [
              "<video alt=\"test\" autoplay \n",
              "                loop controls style=\"height: 400px;\">\n",
              "                <source src=\"data:video/mp4;base64,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\" type=\"video/mp4\" />\n",
              "             </video>"
            ]
          },
          "metadata": {}
        },
        {
          "output_type": "stream",
          "name": "stdout",
          "text": [
            "Episode: 8 Score: 24.0\n"
          ]
        },
        {
          "output_type": "display_data",
          "data": {
            "text/plain": [
              "<IPython.core.display.HTML object>"
            ],
            "text/html": [
              "<video alt=\"test\" autoplay \n",
              "                loop controls style=\"height: 400px;\">\n",
              "                <source src=\"data:video/mp4;base64,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\" type=\"video/mp4\" />\n",
              "             </video>"
            ]
          },
          "metadata": {}
        },
        {
          "output_type": "stream",
          "name": "stdout",
          "text": [
            "Episode: 9 Score: 23.0\n"
          ]
        },
        {
          "output_type": "display_data",
          "data": {
            "text/plain": [
              "<IPython.core.display.HTML object>"
            ],
            "text/html": [
              "<video alt=\"test\" autoplay \n",
              "                loop controls style=\"height: 400px;\">\n",
              "                <source src=\"data:video/mp4;base64,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\" type=\"video/mp4\" />\n",
              "             </video>"
            ]
          },
          "metadata": {}
        },
        {
          "output_type": "stream",
          "name": "stdout",
          "text": [
            "Episode: 10 Score: 15.0\n"
          ]
        }
      ]
    },
    {
      "cell_type": "markdown",
      "source": [
        "#Construindo o Modelo"
      ],
      "metadata": {
        "id": "XN9_3aCI-Bni"
      }
    },
    {
      "cell_type": "code",
      "source": [
        "from tensorflow.keras.models import Sequential\n",
        "from tensorflow.keras.layers import Dense, Flatten\n",
        "from tensorflow.keras.optimizers import Adam"
      ],
      "metadata": {
        "id": "ijk2Ewd0-Eyk"
      },
      "execution_count": null,
      "outputs": []
    },
    {
      "cell_type": "code",
      "source": [
        "def build_model(states, actions):\n",
        "    model = Sequential()\n",
        "    model.add(Flatten(input_shape=(1, states)))\n",
        "    model.add(Dense(24, activation='relu'))\n",
        "    model.add(Dense(24, activation='relu'))\n",
        "    model.add(Dense(actions, activation='linear'))\n",
        "    return model"
      ],
      "metadata": {
        "id": "YvPv7Rw5-fjS"
      },
      "execution_count": null,
      "outputs": []
    },
    {
      "cell_type": "code",
      "source": [
        "model = build_model(states, actions)\n",
        "model.summary()"
      ],
      "metadata": {
        "colab": {
          "base_uri": "https://localhost:8080/"
        },
        "id": "F-eaqAqk_JoG",
        "outputId": "0b064eac-f323-415c-a8cc-1258d661d486"
      },
      "execution_count": null,
      "outputs": [
        {
          "output_type": "stream",
          "name": "stdout",
          "text": [
            "Model: \"sequential_3\"\n",
            "_________________________________________________________________\n",
            "Layer (type)                 Output Shape              Param #   \n",
            "=================================================================\n",
            "flatten_2 (Flatten)          (None, 4)                 0         \n",
            "_________________________________________________________________\n",
            "dense_6 (Dense)              (None, 24)                120       \n",
            "_________________________________________________________________\n",
            "dense_7 (Dense)              (None, 24)                600       \n",
            "_________________________________________________________________\n",
            "dense_8 (Dense)              (None, 2)                 50        \n",
            "=================================================================\n",
            "Total params: 770\n",
            "Trainable params: 770\n",
            "Non-trainable params: 0\n",
            "_________________________________________________________________\n"
          ]
        }
      ]
    },
    {
      "cell_type": "markdown",
      "source": [
        "#Build Agente with Keras-RL"
      ],
      "metadata": {
        "id": "OJakH1ze_hMz"
      }
    },
    {
      "cell_type": "code",
      "source": [
        "from rl.agents import DQNAgent\n",
        "from rl.policy import BoltzmannQPolicy\n",
        "from rl.memory import SequentialMemory"
      ],
      "metadata": {
        "id": "OCCVGg1R_l3Q"
      },
      "execution_count": null,
      "outputs": []
    },
    {
      "cell_type": "code",
      "source": [
        "def build_agent(model, actions):\n",
        "    policy = BoltzmannQPolicy()\n",
        "    memory = SequentialMemory(limit=50000, window_length=1)\n",
        "    dqn = DQNAgent(model=model, memory=memory, policy=policy, nb_actions=actions, nb_steps_warmup=10, target_model_update=1e-2)\n",
        "    return dqn"
      ],
      "metadata": {
        "id": "8fNpBxUq_zqL"
      },
      "execution_count": null,
      "outputs": []
    },
    {
      "cell_type": "code",
      "source": [
        "dqn = build_agent(model, actions)\n",
        "dqn.compile(Adam(lr=1e-3), metrics=['mae'])\n",
        "dqn.fit(env, nb_steps=50000, visualize=False, verbose=1)"
      ],
      "metadata": {
        "colab": {
          "base_uri": "https://localhost:8080/"
        },
        "id": "2iFt06JLAsf-",
        "outputId": "926b60fa-8664-41f0-ac94-b0b7d7b45ccc"
      },
      "execution_count": null,
      "outputs": [
        {
          "output_type": "stream",
          "name": "stdout",
          "text": [
            "Training for 50000 steps ...\n",
            "Interval 1 (0 steps performed)\n",
            "WARNING:tensorflow:From /usr/local/lib/python3.7/dist-packages/tensorflow/python/keras/engine/training_v1.py:2070: Model.state_updates (from tensorflow.python.keras.engine.training) is deprecated and will be removed in a future version.\n",
            "Instructions for updating:\n",
            "This property should not be used in TensorFlow 2.0, as updates are applied automatically.\n"
          ]
        },
        {
          "output_type": "stream",
          "name": "stderr",
          "text": [
            "WARNING:tensorflow:From /usr/local/lib/python3.7/dist-packages/tensorflow/python/keras/engine/training_v1.py:2070: Model.state_updates (from tensorflow.python.keras.engine.training) is deprecated and will be removed in a future version.\n",
            "Instructions for updating:\n",
            "This property should not be used in TensorFlow 2.0, as updates are applied automatically.\n"
          ]
        },
        {
          "output_type": "stream",
          "name": "stdout",
          "text": [
            "\r    1/10000 [..............................] - ETA: 15:21 - reward: 1.0000"
          ]
        },
        {
          "output_type": "stream",
          "name": "stderr",
          "text": [
            "/usr/local/lib/python3.7/dist-packages/rl/memory.py:37: UserWarning: Not enough entries to sample without replacement. Consider increasing your warm-up phase to avoid oversampling!\n",
            "  warnings.warn('Not enough entries to sample without replacement. Consider increasing your warm-up phase to avoid oversampling!')\n"
          ]
        },
        {
          "output_type": "stream",
          "name": "stdout",
          "text": [
            "10000/10000 [==============================] - 86s 9ms/step - reward: 1.0000\n",
            "99 episodes - episode_reward: 100.061 [8.000, 200.000] - loss: 3.443 - mae: 19.325 - mean_q: 39.191\n",
            "\n",
            "Interval 2 (10000 steps performed)\n",
            "10000/10000 [==============================] - 83s 8ms/step - reward: 1.0000\n",
            "50 episodes - episode_reward: 200.000 [200.000, 200.000] - loss: 7.230 - mae: 38.883 - mean_q: 78.545\n",
            "\n",
            "Interval 3 (20000 steps performed)\n",
            "10000/10000 [==============================] - 84s 8ms/step - reward: 1.0000\n",
            "50 episodes - episode_reward: 200.000 [200.000, 200.000] - loss: 6.944 - mae: 41.881 - mean_q: 84.265\n",
            "\n",
            "Interval 4 (30000 steps performed)\n",
            "10000/10000 [==============================] - 81s 8ms/step - reward: 1.0000\n",
            "50 episodes - episode_reward: 200.000 [200.000, 200.000] - loss: 9.759 - mae: 43.802 - mean_q: 88.032\n",
            "\n",
            "Interval 5 (40000 steps performed)\n",
            "10000/10000 [==============================] - 85s 8ms/step - reward: 1.0000\n",
            "done, took 419.133 seconds\n"
          ]
        },
        {
          "output_type": "execute_result",
          "data": {
            "text/plain": [
              "<tensorflow.python.keras.callbacks.History at 0x7f2ff6909c10>"
            ]
          },
          "metadata": {},
          "execution_count": 35
        }
      ]
    },
    {
      "cell_type": "code",
      "source": [
        "scores = dqn.test(env, nb_episodes=100, visualize=False)\n",
        "print(np.mean(scores.history['episode_reward']))"
      ],
      "metadata": {
        "colab": {
          "base_uri": "https://localhost:8080/"
        },
        "id": "3xyvOKPDGitN",
        "outputId": "a020f863-365b-435a-f440-a1d3f7ab3deb"
      },
      "execution_count": null,
      "outputs": [
        {
          "output_type": "stream",
          "name": "stdout",
          "text": [
            "Testing for 100 episodes ...\n",
            "Episode 1: reward: 200.000, steps: 200\n",
            "Episode 2: reward: 200.000, steps: 200\n",
            "Episode 3: reward: 200.000, steps: 200\n",
            "Episode 4: reward: 200.000, steps: 200\n",
            "Episode 5: reward: 200.000, steps: 200\n",
            "Episode 6: reward: 200.000, steps: 200\n",
            "Episode 7: reward: 200.000, steps: 200\n",
            "Episode 8: reward: 200.000, steps: 200\n",
            "Episode 9: reward: 200.000, steps: 200\n",
            "Episode 10: reward: 200.000, steps: 200\n",
            "Episode 11: reward: 200.000, steps: 200\n",
            "Episode 12: reward: 200.000, steps: 200\n",
            "Episode 13: reward: 200.000, steps: 200\n",
            "Episode 14: reward: 200.000, steps: 200\n",
            "Episode 15: reward: 200.000, steps: 200\n",
            "Episode 16: reward: 200.000, steps: 200\n",
            "Episode 17: reward: 200.000, steps: 200\n",
            "Episode 18: reward: 200.000, steps: 200\n",
            "Episode 19: reward: 200.000, steps: 200\n",
            "Episode 20: reward: 200.000, steps: 200\n",
            "Episode 21: reward: 200.000, steps: 200\n",
            "Episode 22: reward: 200.000, steps: 200\n",
            "Episode 23: reward: 200.000, steps: 200\n",
            "Episode 24: reward: 200.000, steps: 200\n",
            "Episode 25: reward: 200.000, steps: 200\n",
            "Episode 26: reward: 200.000, steps: 200\n",
            "Episode 27: reward: 200.000, steps: 200\n",
            "Episode 28: reward: 200.000, steps: 200\n",
            "Episode 29: reward: 200.000, steps: 200\n",
            "Episode 30: reward: 200.000, steps: 200\n",
            "Episode 31: reward: 200.000, steps: 200\n",
            "Episode 32: reward: 200.000, steps: 200\n",
            "Episode 33: reward: 200.000, steps: 200\n",
            "Episode 34: reward: 200.000, steps: 200\n",
            "Episode 35: reward: 200.000, steps: 200\n",
            "Episode 36: reward: 200.000, steps: 200\n",
            "Episode 37: reward: 200.000, steps: 200\n",
            "Episode 38: reward: 200.000, steps: 200\n",
            "Episode 39: reward: 200.000, steps: 200\n",
            "Episode 40: reward: 200.000, steps: 200\n",
            "Episode 41: reward: 200.000, steps: 200\n",
            "Episode 42: reward: 200.000, steps: 200\n",
            "Episode 43: reward: 200.000, steps: 200\n",
            "Episode 44: reward: 200.000, steps: 200\n",
            "Episode 45: reward: 200.000, steps: 200\n",
            "Episode 46: reward: 200.000, steps: 200\n",
            "Episode 47: reward: 200.000, steps: 200\n",
            "Episode 48: reward: 200.000, steps: 200\n",
            "Episode 49: reward: 200.000, steps: 200\n",
            "Episode 50: reward: 200.000, steps: 200\n",
            "Episode 51: reward: 200.000, steps: 200\n",
            "Episode 52: reward: 200.000, steps: 200\n",
            "Episode 53: reward: 200.000, steps: 200\n",
            "Episode 54: reward: 200.000, steps: 200\n",
            "Episode 55: reward: 200.000, steps: 200\n",
            "Episode 56: reward: 200.000, steps: 200\n",
            "Episode 57: reward: 200.000, steps: 200\n",
            "Episode 58: reward: 200.000, steps: 200\n",
            "Episode 59: reward: 200.000, steps: 200\n",
            "Episode 60: reward: 200.000, steps: 200\n",
            "Episode 61: reward: 200.000, steps: 200\n",
            "Episode 62: reward: 200.000, steps: 200\n",
            "Episode 63: reward: 200.000, steps: 200\n",
            "Episode 64: reward: 200.000, steps: 200\n",
            "Episode 65: reward: 200.000, steps: 200\n",
            "Episode 66: reward: 200.000, steps: 200\n",
            "Episode 67: reward: 200.000, steps: 200\n",
            "Episode 68: reward: 200.000, steps: 200\n",
            "Episode 69: reward: 200.000, steps: 200\n",
            "Episode 70: reward: 200.000, steps: 200\n",
            "Episode 71: reward: 200.000, steps: 200\n",
            "Episode 72: reward: 200.000, steps: 200\n",
            "Episode 73: reward: 200.000, steps: 200\n",
            "Episode 74: reward: 200.000, steps: 200\n",
            "Episode 75: reward: 200.000, steps: 200\n",
            "Episode 76: reward: 200.000, steps: 200\n",
            "Episode 77: reward: 200.000, steps: 200\n",
            "Episode 78: reward: 200.000, steps: 200\n",
            "Episode 79: reward: 200.000, steps: 200\n",
            "Episode 80: reward: 200.000, steps: 200\n",
            "Episode 81: reward: 200.000, steps: 200\n",
            "Episode 82: reward: 200.000, steps: 200\n",
            "Episode 83: reward: 200.000, steps: 200\n",
            "Episode 84: reward: 200.000, steps: 200\n",
            "Episode 85: reward: 200.000, steps: 200\n",
            "Episode 86: reward: 200.000, steps: 200\n",
            "Episode 87: reward: 200.000, steps: 200\n",
            "Episode 88: reward: 200.000, steps: 200\n",
            "Episode 89: reward: 200.000, steps: 200\n",
            "Episode 90: reward: 200.000, steps: 200\n",
            "Episode 91: reward: 200.000, steps: 200\n",
            "Episode 92: reward: 200.000, steps: 200\n",
            "Episode 93: reward: 200.000, steps: 200\n",
            "Episode 94: reward: 200.000, steps: 200\n",
            "Episode 95: reward: 200.000, steps: 200\n",
            "Episode 96: reward: 200.000, steps: 200\n",
            "Episode 97: reward: 200.000, steps: 200\n",
            "Episode 98: reward: 200.000, steps: 200\n",
            "Episode 99: reward: 200.000, steps: 200\n",
            "Episode 100: reward: 200.000, steps: 200\n",
            "200.0\n"
          ]
        }
      ]
    },
    {
      "cell_type": "code",
      "source": [
        "_ = dqn.test(env, nb_episodes=10, visualize=True)\n",
        "show_video()"
      ],
      "metadata": {
        "colab": {
          "base_uri": "https://localhost:8080/",
          "height": 612
        },
        "id": "Z5BWm8GRHHyL",
        "outputId": "03bacc49-68da-4f01-cd3a-616f57e83f05"
      },
      "execution_count": null,
      "outputs": [
        {
          "output_type": "stream",
          "name": "stdout",
          "text": [
            "Testing for 10 episodes ...\n",
            "Episode 1: reward: 200.000, steps: 200\n",
            "Episode 2: reward: 200.000, steps: 200\n",
            "Episode 3: reward: 200.000, steps: 200\n",
            "Episode 4: reward: 200.000, steps: 200\n",
            "Episode 5: reward: 200.000, steps: 200\n",
            "Episode 6: reward: 200.000, steps: 200\n",
            "Episode 7: reward: 200.000, steps: 200\n",
            "Episode 8: reward: 200.000, steps: 200\n",
            "Episode 9: reward: 200.000, steps: 200\n",
            "Episode 10: reward: 200.000, steps: 200\n"
          ]
        },
        {
          "output_type": "display_data",
          "data": {
            "text/plain": [
              "<IPython.core.display.HTML object>"
            ],
            "text/html": [
              "<video alt=\"test\" autoplay \n",
              "                loop controls style=\"height: 400px;\">\n",
              "                <source src=\"data:video/mp4;base64,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\" type=\"video/mp4\" />\n",
              "             </video>"
            ]
          },
          "metadata": {}
        }
      ]
    },
    {
      "cell_type": "markdown",
      "source": [
        "#Reloading Agent from Memory"
      ],
      "metadata": {
        "id": "b1RohOhyIK0n"
      }
    },
    {
      "cell_type": "code",
      "source": [
        "dqn.save_weights('dqn_weights.h5f', overwrite=True)"
      ],
      "metadata": {
        "id": "ijabV5j8IOQu"
      },
      "execution_count": null,
      "outputs": []
    },
    {
      "cell_type": "code",
      "source": [
        "del model\n",
        "del dqn\n",
        "del env\n",
        "dqn.test(env, nb_episodes=5, visualize=True)"
      ],
      "metadata": {
        "colab": {
          "base_uri": "https://localhost:8080/",
          "height": 200
        },
        "id": "NdQjKvROIcLX",
        "outputId": "4ff04213-37a8-4d96-aeee-22d41ccb521e"
      },
      "execution_count": null,
      "outputs": [
        {
          "output_type": "error",
          "ename": "NameError",
          "evalue": "ignored",
          "traceback": [
            "\u001b[0;31m---------------------------------------------------------------------------\u001b[0m",
            "\u001b[0;31mNameError\u001b[0m                                 Traceback (most recent call last)",
            "\u001b[0;32m<ipython-input-41-fb1c9d7d0de5>\u001b[0m in \u001b[0;36m<module>\u001b[0;34m()\u001b[0m\n\u001b[1;32m      2\u001b[0m \u001b[0;32mdel\u001b[0m \u001b[0mdqn\u001b[0m\u001b[0;34m\u001b[0m\u001b[0;34m\u001b[0m\u001b[0m\n\u001b[1;32m      3\u001b[0m \u001b[0;32mdel\u001b[0m \u001b[0menv\u001b[0m\u001b[0;34m\u001b[0m\u001b[0;34m\u001b[0m\u001b[0m\n\u001b[0;32m----> 4\u001b[0;31m \u001b[0mdqn\u001b[0m\u001b[0;34m.\u001b[0m\u001b[0mtest\u001b[0m\u001b[0;34m(\u001b[0m\u001b[0menv\u001b[0m\u001b[0;34m,\u001b[0m \u001b[0mnb_episodes\u001b[0m\u001b[0;34m=\u001b[0m\u001b[0;36m5\u001b[0m\u001b[0;34m,\u001b[0m \u001b[0mvizualize\u001b[0m\u001b[0;34m=\u001b[0m\u001b[0;32mTrue\u001b[0m\u001b[0;34m)\u001b[0m\u001b[0;34m\u001b[0m\u001b[0;34m\u001b[0m\u001b[0m\n\u001b[0m",
            "\u001b[0;31mNameError\u001b[0m: name 'dqn' is not defined"
          ]
        }
      ]
    },
    {
      "cell_type": "code",
      "source": [
        "env = wrap_env(gym.make('CartPole-v0'))\n",
        "actions = env.action_space.n\n",
        "states = env.observation_space.shape[0]\n",
        "model = build_model(states, actions)\n",
        "dqn = build_agent(model, actions)\n",
        "dqn.compile(Adam(lr=1e-3), metrics=['mae'])"
      ],
      "metadata": {
        "id": "CIjcHOgHIik2"
      },
      "execution_count": null,
      "outputs": []
    },
    {
      "cell_type": "code",
      "source": [
        "dqn.load_weights('dqn_weights.h5f')"
      ],
      "metadata": {
        "id": "CM7dIokoJYf3"
      },
      "execution_count": null,
      "outputs": []
    },
    {
      "cell_type": "code",
      "source": [
        "_ = dqn.test(env, nb_episodes=5, visualize=True)\n",
        "show_video()"
      ],
      "metadata": {
        "colab": {
          "base_uri": "https://localhost:8080/",
          "height": 526
        },
        "id": "2c0zlnoFJj4s",
        "outputId": "814b6467-9ead-409b-a391-fba595b76c46"
      },
      "execution_count": null,
      "outputs": [
        {
          "output_type": "stream",
          "name": "stdout",
          "text": [
            "Testing for 5 episodes ...\n",
            "Episode 1: reward: 200.000, steps: 200\n",
            "Episode 2: reward: 200.000, steps: 200\n",
            "Episode 3: reward: 200.000, steps: 200\n",
            "Episode 4: reward: 200.000, steps: 200\n",
            "Episode 5: reward: 200.000, steps: 200\n"
          ]
        },
        {
          "output_type": "display_data",
          "data": {
            "text/plain": [
              "<IPython.core.display.HTML object>"
            ],
            "text/html": [
              "<video alt=\"test\" autoplay \n",
              "                loop controls style=\"height: 400px;\">\n",
              "                <source src=\"data:video/mp4;base64,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\" type=\"video/mp4\" />\n",
              "             </video>"
            ]
          },
          "metadata": {}
        }
      ]
    }
  ]
}